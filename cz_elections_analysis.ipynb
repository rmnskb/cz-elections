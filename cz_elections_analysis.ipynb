{
 "cells": [
  {
   "cell_type": "markdown",
   "metadata": {
    "collapsed": false,
    "pycharm": {
     "name": "#%% md\n"
    }
   },
   "source": [
    "# Analýza kandidátů do Poslanecké sněmovny napříč volbami\n",
    "## Úvod\n",
    "Tato práce se zabývá analýzou dat o kandidátech do Poslanecké sněmovny od roku 2006 do roku 2021. Zdrojem jsou [data z Českého statistického úřadu](https://volby.cz/opendata/opendata.htm).\n",
    "* Analýza dat se snaží zodpovědět následující otázky:\n",
    "    *  Jaké je věkové rozložení kandidátů napříč volbami?\n",
    "    *  Jak velké zastoupení mají muži a ženy?\n",
    "    *  Jaká ideologie převládá?\n",
    "    *  Jaké obory jsou u kandidátů nejčastější?\n",
    "    *  Jaký vliv má vysokoškolské vzdělání na volbu ideologie kandidátem?\n",
    "\n",
    "Další součástí této práce je natrénování binárního klasifikačního modelu, kterým se na základě informací o kandydátech obsažených v datových zdrojích predikuje, zda kandidát ve volbých získá mandát a nebo nikoliv."
   ]
  },
  {
   "cell_type": "code",
   "execution_count": null,
   "metadata": {
    "collapsed": false,
    "pycharm": {
     "name": "#%%\n"
    },
    "vscode": {
     "languageId": "python"
    }
   },
   "outputs": [],
   "source": [
    "# Installations\n",
    "# !pip install matplotlib\n",
    "# !pip install scikit-learn\n",
    "# !pip install seaborn"
   ]
  },
  {
   "cell_type": "markdown",
   "metadata": {
    "collapsed": false,
    "pycharm": {
     "name": "#%% md\n"
    }
   },
   "source": [
    "## Import knihoven a inicializace potřebných funkcí\n",
    "Ke splnění cílů této práce autoři užávají celkem pět knihoven jazyku Python, které jsou v dalším kroku práce naimportovány. Knihovny pandas a numpy se užívají k manipulaci s daty, matplotlib a seaborn pro vizualizaci a sci-kit learn pro účely strojového učení. Knihovna warnings je použita za účelem skrytí upozornění buněk."
   ]
  },
  {
   "cell_type": "code",
   "execution_count": null,
   "metadata": {
    "collapsed": true,
    "pycharm": {
     "name": "#%%\n"
    },
    "vscode": {
     "languageId": "python"
    }
   },
   "outputs": [],
   "source": [
    "import pandas as pd\n",
    "import numpy as np\n",
    "import matplotlib.pyplot as plt\n",
    "import seaborn as sns\n",
    "import warnings\n",
    "# filtrace upozornění\n",
    "warnings.filterwarnings(\"ignore\")\n",
    "# nastavení standardního rozměru grafu\n",
    "plt.rcParams[\"figure.figsize\"] = (15, 9)"
   ]
  },
  {
   "cell_type": "markdown",
   "metadata": {
    "collapsed": false,
    "pycharm": {
     "name": "#%% md\n"
    }
   },
   "source": [
    "Následující buňka zavádí funkci \"obor\". Cílem je povolání kandidátů (uvedené ve zdrojových datech) namapovat na širší/obecnější obory či kategorie (i.e. finance, právo, politika, řemeslo). Kandidáti totiž mouhou mít ve sloupci POVOLANI uvedeno cokoliv a proto bylo nutné vytvořit předem definovaný slovník, jehož pomocí se pomocí hodnoty sloupce POVOLANI, každému kandidátovi přiřadí obecnější kategorie, do níž jeho povolání spadá. K tomu autoři vytvořili JSON soubor (viz dict_occupations.json). Ten jako hodnoty vnořených klíčů \"var\" uvádí různé varianty názvu povolání, ke kterým se má mapovat příslušná kategorie. Kategorie byly utvořeny a definovány na základě nejčastějších hodnot ve sloupci POVOLANI. Pokud k dané hodnotě ve sloupci POVOLANÍ neexistuje kategorie, pak se přiřadí kategorie \"Jiné\"."
   ]
  },
  {
   "cell_type": "code",
   "execution_count": null,
   "metadata": {
    "collapsed": false,
    "pycharm": {
     "name": "#%%\n"
    },
    "vscode": {
     "languageId": "python"
    }
   },
   "outputs": [],
   "source": [
    "import json # daná knihovna umožňuje snadný import JSON souborů ve formátu python slovníků\n",
    "\n",
    "with open(\"dict_occupations.json\", \"r\", encoding=\"utf-8\") as file: # otevření JSON souboru\n",
    "    occup_dict = json.load(file)\n",
    "\n",
    "\n",
    "def obor(val: str) -> str:\n",
    "    \"\"\"\n",
    "    Checks to what field does candidate's profession belongs to (such as finance, law, medicine etc.) with the help of keywords from global occup_dict dictionary\n",
    "    :param val: string value containing candidate's profession description\n",
    "    :return: string value with the particular field, returns \"Jiné\" if no matches were found\n",
    "    \"\"\"\n",
    "    global occup_dict\n",
    "    for key in occup_dict.keys():\n",
    "        for i in occup_dict[key][\"var\"]:\n",
    "            if i in val.lower():\n",
    "                return occup_dict[key][\"name\"]\n",
    "    return \"jiné\"\n",
    "\n",
    "\n",
    "occup_dict.keys()"
   ]
  },
  {
   "cell_type": "markdown",
   "metadata": {
    "collapsed": false,
    "pycharm": {
     "name": "#%% md\n"
    }
   },
   "source": [
    "Jelikož jsou použita volební data z parlamentních voleb v různých letech, které mají více či méně standardizovaný tvar, autoři užívají jednu předem definovanou funkci na čištění všech datových souborů."
   ]
  },
  {
   "cell_type": "code",
   "execution_count": null,
   "metadata": {
    "collapsed": false,
    "pycharm": {
     "name": "#%%\n"
    },
    "vscode": {
     "languageId": "python"
    }
   },
   "outputs": [],
   "source": [
    "def clean_data(data: pd.DataFrame, strany: dict) -> pd.DataFrame:\n",
    "    \"\"\"\n",
    "    Clean and prepare a dataframe containing data from different types of elections for further visualisation and modelling purposes.\n",
    "    The output is:\n",
    "        -[cele_jmeno]: combining name columns into one\n",
    "        -[vek]: candidate's age\n",
    "        -[vs_vzdelani]: Creating a boolean column checking whether a candidate has university degree\n",
    "        -[obor]: field of candidate's profession\n",
    "        -[pohlavi]: candidate's gender (based on their surname's ending)\n",
    "        -[kraj]: region where candidate runs their campaign\n",
    "        -[NSTRANA]: political party that nominated the candidate\n",
    "        -[ideologie]: canidate's ideology (left-wing, center, right-wing)\n",
    "        -[mandat]: whether candidate got their mandate\n",
    "        -[year]: year of elections\n",
    "    :param data: pandas dataframe including elections data\n",
    "    :param strany: dictionary data type with political parties' data\n",
    "    :return: cleaned pandas dataframe\n",
    "    \"\"\"\n",
    "    df = data.copy()\n",
    "\n",
    "    df[\"cele_jmeno\"] = df[\"JMENO\"] + \" \" + df[\"PRIJMENI\"]\n",
    "    df[\"pohlavi\"] = np.where(df.loc[:, \"cele_jmeno\"].str[-1] == \"á\", \"F\", \"M\")\n",
    "    df[\"vs_vzdelani\"] = np.where((df[\"TITULPRED\"].notnull()) | (df[\"TITULZA\"].notnull()), 1, 0)\n",
    "    df[\"vek\"] = df[\"VEK\"]\n",
    "\n",
    "    # seznam krajů dle kódů\n",
    "    kraj_list = [\"Hlavní město Praha\", \"Středočeský kraj\", \"Jihočeský kraj\", \"Plzeňský kraj\", \"Karlovarský kraj\",\n",
    "                \"Ústecký kraj\", \"Liberecký kraj\", \"Královéhradecký kraj\", \"Pardubický kraj\", \"Kraj Vysočina\",\n",
    "                \"Jihomoravský kraj\", \"Olomoucký kraj\", \"Zlínský kraj\", \"Moravskoslezský kraj\"]\n",
    "    kraj_dict = dict(zip(list(range(1, 15)), kraj_list))\n",
    "    df[\"ideologie\"] = df[\"NSTRANA\"].map(strany)\n",
    "    df[\"kraj\"] = df[\"VOLKRAJ\"].map(kraj_dict)\n",
    "    df[\"obor\"] = df[\"POVOLANI\"].apply(lambda row: obor(str(row))) # mapuje slovník oborů na sloupec \"POVOLANI\"\n",
    "    df[\"mandat\"] = df[\"MANDAT\"].apply(lambda row: 1 if str(row) == \"A\" or str(row) == \"1\" else 0) # převádí různé záznamy na jeden tvar (v některých letech je to A/N, někde 1/0)\n",
    "    columns = [\"cele_jmeno\", \"vek\", \"vs_vzdelani\", \"obor\", \"pohlavi\", \"kraj\", \"NSTRANA\", \"ideologie\", \"mandat\", \"year\"]\n",
    "\n",
    "    return df[columns]"
   ]
  },
  {
   "cell_type": "markdown",
   "metadata": {
    "collapsed": false,
    "pycharm": {
     "name": "#%% md\n"
    }
   },
   "source": [
    "## Načítání dat\n",
    "Popis některých sloupců, které jsou součástí výstupního souboru:\n",
    "   * **VOLKRAJ** - číslo kraje, na základě těchto čísel se navázují názvy krajů\n",
    "   * **JMENO**, **PRIJMENI** - jméno a příjmení, na základě koncovky u příjmení se vytváří sloupec \"pohlavi\"\n",
    "   * **TITULPRED**, **TITULZA** - tituly před a za jménem, při přitomnosti aspoň jedné ze dvou se sloupci \"vs_vzdelani\" přiřazuje hodnota 1, jinak 0\n",
    "   * **VEK** - věk\n",
    "   * **POVOLANI** - povolaní kandidáta, jak bylo uvedeno výše - tuto hodnotu kandidáti vyplňují sámi a proto jeho honoty nemají žádný standard. Sloupec \"obor\" ve výstupním souboru vzniká mapováním sloupce POVOLANI pomocí slovníku dict_occupations.json.\n",
    "   * **NSTRANA** - strana, která kandidáta navrhla - ze všech sloupců se obahující strany byl použit tento, neboť obsahuje nejméně chybějících hodnot. Je tomu tak proto, že každého kandidáta musela nějaká strana navrhnout. Na rozdíl od např. KSTRANA, která označuje stranu kandidáta, kde se může vyskytovat kandidát bez strany. Hlavním účelem tohoto sloupce je uržení tzv. **ideologie**, pomocí ní dochází ke třídění kandidátů do úzších skupin dle jednodimenzionálního rozdělení (levicové, středové a pravicové strany).\n",
    "   * **MANDAT** - zda kandidát nakonec získal mandát nebo nikoliv\n",
    "   * **year** - rok voleb - přídan během načítání dat"
   ]
  },
  {
   "cell_type": "code",
   "execution_count": null,
   "metadata": {
    "collapsed": false,
    "pycharm": {
     "name": "#%%\n"
    },
    "vscode": {
     "languageId": "python"
    }
   },
   "outputs": [],
   "source": [
    "# data budou staženy do listu snem_list\n",
    "snem_list = []\n",
    "snem_years = [2006, 2010, 2013, 2017, 2021] # jednotlivé roky voleb\n",
    "for year in snem_years:\n",
    "    temp_df = pd.read_csv(f\"legislative-elections/snem_{year}.csv\",\n",
    "                          sep=\";\", encoding=\"utf-8\")\n",
    "    temp_df[\"year\"] = year\n",
    "    snem_list.append(temp_df)\n",
    "\n",
    "snem_list[0].head(10)"
   ]
  },
  {
   "cell_type": "markdown",
   "metadata": {
    "collapsed": false,
    "pycharm": {
     "name": "#%% md\n"
    }
   },
   "source": [
    "Následující dataframe obsahuje data o stranách, které se zúčastnily voleb do sněmovny v letech 2006 až 2021. Sloupec **Ideologie** je přidán ručně na základě veřejně dostupných informací ohledně každé strany (jednodimenzionální rozdělení na levicové, středové a pravicové strany)."
   ]
  },
  {
   "cell_type": "code",
   "execution_count": null,
   "metadata": {
    "collapsed": false,
    "pycharm": {
     "name": "#%%\n"
    },
    "vscode": {
     "languageId": "python"
    }
   },
   "outputs": [],
   "source": [
    "strany = pd.read_csv(\"legislative-elections/strany.csv\",\n",
    "                    sep=\";\", encoding=\"utf-8\")\n",
    "strany_dict = dict(zip(strany[\"VSTRANA\"], strany[\"Ideologie\"]))\n",
    "strany.head()"
   ]
  },
  {
   "cell_type": "markdown",
   "metadata": {
    "collapsed": false,
    "pycharm": {
     "name": "#%% md\n"
    }
   },
   "source": [
    "Sloupec \"pohlavi\" je vytvořen na základě koncovky příjmení kandidáta."
   ]
  },
  {
   "cell_type": "code",
   "execution_count": null,
   "metadata": {
    "collapsed": false,
    "pycharm": {
     "name": "#%%\n"
    },
    "vscode": {
     "languageId": "python"
    }
   },
   "outputs": [],
   "source": [
    "# Čištění dat pomocí funkce clean_data\n",
    "snem_clean_list = []\n",
    "\n",
    "for i in range(5):\n",
    "    temp_df = clean_data(snem_list[i], strany_dict)\n",
    "    snem_clean_list.append(temp_df)\n",
    "\n",
    "snem_clean_list[0].head(10)"
   ]
  },
  {
   "cell_type": "code",
   "execution_count": null,
   "metadata": {
    "collapsed": false,
    "pycharm": {
     "name": "#%%\n"
    },
    "vscode": {
     "languageId": "python"
    }
   },
   "outputs": [],
   "source": [
    "# Tato funkce dává v dané buňce veškeré dataframy do jednoho, jelikož pro budoucí účely je nutné mít data ve formátu long\n",
    "snem_long = pd.concat(snem_clean_list, ignore_index=True)\n",
    "snem_long.tail(10)"
   ]
  },
  {
   "cell_type": "markdown",
   "metadata": {
    "collapsed": false,
    "pycharm": {
     "name": "#%% md\n"
    }
   },
   "source": [
    "## Ošetření chybějících hodnot\n",
    "Nyní je nutné zkontrolovat, zda nějaké data nechybí."
   ]
  },
  {
   "cell_type": "code",
   "execution_count": null,
   "metadata": {
    "collapsed": false,
    "pycharm": {
     "name": "#%%\n"
    },
    "vscode": {
     "languageId": "python"
    }
   },
   "outputs": [],
   "source": [
    "print(\"Počet chybějících hodnot v každém sloupci:\\n\")\n",
    "print(snem_long.isnull().sum())\n",
    "print(\"-\" * 40)\n",
    "print(\"Nejčastější ideologie kandidátů:\\n\")\n",
    "print(snem_long[\"ideologie\"].value_counts())"
   ]
  },
  {
   "cell_type": "markdown",
   "metadata": {
    "collapsed": false,
    "pycharm": {
     "name": "#%% md\n"
    }
   },
   "source": [
    "Jak je zřejmé z výstupu nad, chybějící hodnoty jsou ve sloupcích vek, NSTRANA a ideologie.\n",
    "Nejčastější ideologie je pravicová. Tedy lze bez ztráty informace zaměnit NA hodnoty za hodnotu **pravicová**.\n",
    "NA hodnoty ve sloupcích vek a NSTRANA patří neexistujícím kandidátům, tudíž je lze odstranit."
   ]
  },
  {
   "cell_type": "code",
   "execution_count": null,
   "metadata": {
    "collapsed": false,
    "pycharm": {
     "name": "#%%\n"
    },
    "vscode": {
     "languageId": "python"
    }
   },
   "outputs": [],
   "source": [
    "snem_long[snem_long[\"vek\"].isnull()]"
   ]
  },
  {
   "cell_type": "code",
   "execution_count": null,
   "metadata": {
    "collapsed": false,
    "pycharm": {
     "name": "#%%\n"
    },
    "vscode": {
     "languageId": "python"
    }
   },
   "outputs": [],
   "source": [
    "# Veškerým NA hodnotám ve sloupci ideologie budou přiřazeny \"pravicová\" ideologie, jelikož je nejčastější\n",
    "\n",
    "snem_long = snem_long.dropna(subset=[\"vek\"])\n",
    "snem_long.ideologie = snem_long.ideologie.fillna(\"Pravice\")\n",
    "\n",
    "print(\"Stav po ošetření chybějících hodnot:\")\n",
    "print(\"Počet chybějících hodnot v každém sloupci:\\n\")\n",
    "print(snem_long.isnull().sum())\n",
    "print(\"-\" * 40)\n",
    "print(\"Nejčastější ideologie kandidátů:\\n\")\n",
    "print(snem_long[\"ideologie\"].value_counts())"
   ]
  },
  {
   "cell_type": "markdown",
   "metadata": {
    "collapsed": false,
    "pycharm": {
     "name": "#%% md\n"
    }
   },
   "source": [
    "## Exploratorní analýza\n",
    "Další částí této práce je exploratorní datová analýza.\n",
    "První řadě je nutné zkontrolovat datové typy jednotlivých sloupců:"
   ]
  },
  {
   "cell_type": "code",
   "execution_count": null,
   "metadata": {
    "collapsed": false,
    "pycharm": {
     "name": "#%%\n"
    },
    "vscode": {
     "languageId": "python"
    }
   },
   "outputs": [],
   "source": [
    "snem_long.info()"
   ]
  },
  {
   "cell_type": "markdown",
   "metadata": {
    "collapsed": false,
    "pycharm": {
     "name": "#%% md\n"
    }
   },
   "source": [
    "Všechny kategoriální sloupce převedeme na příslušný datový typ, proměnná věk bude integerem.\n",
    "Tímto vzniká situace, kdy je většina proměnných kategoriální, což napomáhá zvýšení početu dimenzí pro trénování modelů."
   ]
  },
  {
   "cell_type": "code",
   "execution_count": null,
   "metadata": {
    "collapsed": false,
    "pycharm": {
     "name": "#%%\n"
    },
    "vscode": {
     "languageId": "python"
    }
   },
   "outputs": [],
   "source": [
    "for col in [\"vs_vzdelani\", \"obor\", \"pohlavi\", \"kraj\", \"NSTRANA\", \"ideologie\", \"mandat\", \"year\"]:\n",
    "    snem_long[col] = snem_long[col].astype(\"category\")\n",
    "\n",
    "snem_long[\"vek\"] = snem_long[\"vek\"].astype(\"int64\")\n",
    "\n",
    "snem_long.info()"
   ]
  },
  {
   "cell_type": "markdown",
   "metadata": {
    "collapsed": false,
    "pycharm": {
     "name": "#%% md\n"
    }
   },
   "source": [
    "První vizualizací je rozložení věků kandidátů podle pohlaví v jednotlivých volebách. Každý graf vyobrazuje míry centrální tendence."
   ]
  },
  {
   "cell_type": "code",
   "execution_count": null,
   "metadata": {
    "collapsed": false,
    "pycharm": {
     "name": "#%%\n"
    },
    "vscode": {
     "languageId": "python"
    }
   },
   "outputs": [],
   "source": [
    "# knihovna seaborn a distribution plot, samostatný graf pro každý volební rok\n",
    "g = sns.displot(\n",
    "        data=snem_long, x=\"vek\", hue=\"pohlavi\", kind=\"kde\",\n",
    "        fill=True, legend=True, col=\"year\", col_wrap=3, hue_order=[\"M\", \"F\"],\n",
    "        height=5\n",
    "    )\n",
    "g.set_titles(\"Rozložení věků kanidátů do Poslanecké sněmovny\\n podle pohlaví v roce {col_name}\",\n",
    "             size=\"large\")\n",
    "g.set(xlabel=\"Věk kandidáta\", ylabel=\"Hustota\")\n",
    "sns.move_legend(g, \"center right\", bbox_to_anchor=(.75, .45), frameon=True, fontsize=\"medium\",\n",
    "                title=\"Pohlaví\", title_fontsize=\"medium\", labels=[\"Ženy\", \"Muži\"])\n",
    "\n",
    "# svislé přímky pro označení míry centrální tendence\n",
    "years_avgs = {}\n",
    "for i, year in enumerate(snem_years):\n",
    "    years_avgs[i] = [snem_long.query(f\"year == {year}\")[\"vek\"].mean(),\n",
    "                     snem_long.query(f\"year == {year}\")[\"vek\"].median(),\n",
    "                     snem_long.query(f\"year == {year}\")[\"vek\"].mode().iat[0]]\n",
    "\n",
    "# přímky pro jednotlivé grafy rozložení\n",
    "axes = g.axes.flatten()\n",
    "for i, ax in enumerate(axes):\n",
    "    ax.axvline(years_avgs[i][0], ls=\"--\", lw=1.0, label=f\"\"\"Průměr: {years_avgs[i][0]:.2f}\"\"\")\n",
    "    ax.axvline(years_avgs[i][1], color=\"darkred\", lw=1.0, label=f\"\"\"Medián: {years_avgs[i][1]:.2f}\"\"\")\n",
    "    ax.axvline(years_avgs[i][2], ls=\"-.\", color=\"orange\", lw=1.0, label=f\"\"\"Modus: {years_avgs[i][2]:.2f}\"\"\")\n",
    "    ax.legend(loc=0)"
   ]
  },
  {
   "cell_type": "markdown",
   "metadata": {
    "collapsed": false,
    "pycharm": {
     "name": "#%% md\n"
    }
   },
   "source": [
    "Podle výstupu lze usoudit, že poměr mužů a žen je u většiny věkových skupin 2-2,5 ku 1. Mužů tudíž kandiduje víc.\n",
    "Rozdělení jsou špičatá, ale symetrická kolem 47 let, jak to ukazují průměry a mediány. Lze usoudit, že u voleb do poslanecké sněmovny nedochází k nerovnoměrnému rozdělení věků a žádná věková skupina nepřevládá.\n",
    "\n",
    "Nyní zhodnoťme míry centrální tendence věku pro každou ideologii zvlášť:"
   ]
  },
  {
   "cell_type": "code",
   "execution_count": null,
   "metadata": {
    "collapsed": false,
    "pycharm": {
     "name": "#%%\n"
    },
    "vscode": {
     "languageId": "python"
    }
   },
   "outputs": [],
   "source": [
    "snem_long.groupby(\"ideologie\").vek.describe()"
   ]
  },
  {
   "cell_type": "markdown",
   "metadata": {
    "collapsed": false,
    "pycharm": {
     "name": "#%% md\n"
    }
   },
   "source": [
    "Z tabulky je zřejmé, že je každá skupina zastupena rovnoměrně a příliš se od ostatních neliší.\n",
    "\n",
    "Druhým grafem znázorňuje porovnání ideologií kandidátů podle krajů u voleb v roce 2021 a také jaké zastoupení mají zvolené ideologické kategorie ve sněmovně:"
   ]
  },
  {
   "cell_type": "code",
   "execution_count": null,
   "metadata": {
    "collapsed": false,
    "pycharm": {
     "name": "#%%\n"
    },
    "vscode": {
     "languageId": "python"
    }
   },
   "outputs": [],
   "source": [
    "# pořadí tříd a příslušných barev\n",
    "hue_order = [\"Levice\", \"Střed\", \"Pravice\"]\n",
    "hue_palette = [\"Red\", \"Green\", \"Blue\"]\n",
    "\n",
    "# první graf\n",
    "sns.countplot(snem_clean_list[4], y=\"kraj\", hue=\"ideologie\",\n",
    "              hue_order=hue_order, palette=hue_palette)\n",
    "plt.title(\"Ideologie kandidátů do sněmovny podle krajů v roce 2021\")\n",
    "plt.xlabel(\"Počet\")\n",
    "plt.ylabel(\"Kraj\")\n",
    "plt.legend(title=\"Ideologie\")\n",
    "plt.show()\n",
    "\n",
    "# druhý graf\n",
    "sns.countplot(snem_clean_list[4][snem_clean_list[4][\"mandat\"] == 1], y=\"kraj\", hue=\"ideologie\",\n",
    "              hue_order=hue_order, palette=hue_palette)\n",
    "plt.title(\"Ideologie zvolených kandidátů do sněmovny podle krajů v roce 2021\")\n",
    "plt.xlabel(\"Počet\")\n",
    "plt.ylabel(\"Kraj\")\n",
    "plt.legend(title=\"Ideologie\")\n",
    "plt.show();"
   ]
  },
  {
   "cell_type": "markdown",
   "metadata": {
    "collapsed": false,
    "pycharm": {
     "name": "#%% md\n"
    }
   },
   "source": [
    "Lze vidět, že pravicové ideologie převládají u kandidátů ve všech krajích, ale do sněmovny se nakonec dostávají nejčastěji kandidáti ze středu.\n",
    "\n",
    "Třetí vizualizací představuje zastoupení různých oborů podle VŠ vzdělání."
   ]
  },
  {
   "cell_type": "code",
   "execution_count": null,
   "metadata": {
    "collapsed": false,
    "pycharm": {
     "name": "#%%\n"
    },
    "vscode": {
     "languageId": "python"
    }
   },
   "outputs": [],
   "source": [
    "plt.figure(figsize=(15, 9))\n",
    "g = sns.countplot(\n",
    "    data=snem_long, x=\"obor\", hue=\"vs_vzdelani\",\n",
    "    order=snem_long.obor.value_counts().index\n",
    ")\n",
    "plt.title(\"Nejčastější povolání podle vysokoškolského vzdělání v rocích 2006 - 2021\")\n",
    "plt.xlabel(\"Povolání\")\n",
    "plt.xticks(rotation=90)\n",
    "plt.ylabel(\"Počet\")\n",
    "plt.legend(title=\"Vysokoškolské vzdělání\",\n",
    "           labels=[\"Ne\", \"Ano\"]);"
   ]
  },
  {
   "cell_type": "markdown",
   "metadata": {
    "collapsed": false,
    "pycharm": {
     "name": "#%% md\n"
    }
   },
   "source": [
    "Nejčastěji jdou do voleb lidé ze soukromého sektoru bez vysokoškolského vzdělání, druhou nejčastější skupinou jsou, kteří již v politice působí (např. starostové, hejtmani), kteří většinou za sebou vysokou školu mají, třetí nejčastější skupinu kandidátů zastupují podnikatelé.\n",
    "\n",
    "Následný graf ukazuje, jaký vliv má vzdělání na ideologickou kategorii jíž kandidát reprezentuje:"
   ]
  },
  {
   "cell_type": "code",
   "execution_count": null,
   "metadata": {
    "collapsed": false,
    "pycharm": {
     "name": "#%%\n"
    },
    "vscode": {
     "languageId": "python"
    }
   },
   "outputs": [],
   "source": [
    "sns.catplot(\n",
    "    data=snem_long, x=\"vs_vzdelani\", y=\"vek\",\n",
    "    hue=\"ideologie\", hue_order=hue_order, palette=hue_palette,\n",
    "    height = 8, aspect = 1.25\n",
    ")\n",
    "plt.title(\"Ideologie kandidátů do Poslanecké sněmovny podle vysokoškolského vzdělání\")\n",
    "plt.xlabel(\"Vysokoškolské vzdělání\")\n",
    "plt.ylabel(\"Věk kandidáta\");"
   ]
  },
  {
   "cell_type": "markdown",
   "metadata": {
    "collapsed": false,
    "pycharm": {
     "name": "#%% md\n"
    }
   },
   "source": [
    "Kandidáti bez vysokoškolského vzdělání nejčastěji reprezentují pravicovou ideologii, zatímco kandidáti se vzděláním jsou spíše středo-levicoví. Avšak podíl levicových kandidátů je značný jen u starších věkových skupin."
   ]
  },
  {
   "cell_type": "markdown",
   "metadata": {
    "collapsed": false,
    "pycharm": {
     "name": "#%% md\n"
    }
   },
   "source": [
    "## Využití klasifikačního modelu za účelem predikce zvolení kandidáta\n",
    "Nejdříve je nutné provést tzv. dummifying kategoriálních proměnných, tj. převedou se na vícedimenzionální tvar"
   ]
  },
  {
   "cell_type": "code",
   "execution_count": null,
   "metadata": {
    "collapsed": false,
    "pycharm": {
     "name": "#%%\n"
    },
    "vscode": {
     "languageId": "python"
    }
   },
   "outputs": [],
   "source": [
    "# Dummifying kategoriálních proměnných\n",
    "snem_ml = snem_long.drop([\"cele_jmeno\", \"NSTRANA\", \"year\"], axis=1) # tyto proměnné nejsou potřeba, jelikož nemají velký vliv na cílovou proměnnou a mají hodně dimenzí\n",
    "snem_ml = pd.get_dummies(data=snem_ml, columns=[\"vs_vzdelani\", \"obor\", \"pohlavi\", \"kraj\", \"ideologie\"])\n",
    "snem_ml.head()"
   ]
  },
  {
   "cell_type": "markdown",
   "metadata": {
    "collapsed": false,
    "pycharm": {
     "name": "#%% md\n"
    }
   },
   "source": [
    "Jak je zřejmé z grafu níže, cílová proměnná \"mandat\" je silně nebalancovaná - na mandát dosáhlo jen 1000 kandidátů ze skoro 29 tisíc."
   ]
  },
  {
   "cell_type": "code",
   "execution_count": null,
   "metadata": {
    "collapsed": false,
    "pycharm": {
     "name": "#%%\n"
    },
    "vscode": {
     "languageId": "python"
    }
   },
   "outputs": [],
   "source": [
    "plt.figure(figsize=(10, 6))\n",
    "sns.countplot(\n",
    "    data=snem_ml, x=\"mandat\"\n",
    ")\n",
    "print(snem_ml[\"mandat\"].value_counts())"
   ]
  },
  {
   "cell_type": "code",
   "execution_count": null,
   "metadata": {
    "collapsed": false,
    "pycharm": {
     "name": "#%%\n"
    },
    "vscode": {
     "languageId": "python"
    }
   },
   "outputs": [],
   "source": [
    "from sklearn.svm import SVC # Support Vector Machine Classifier algorithm\n",
    "from sklearn.ensemble import RandomForestClassifier # Random Forest Classifier\n",
    "from sklearn.preprocessing import StandardScaler # škálování dat\n",
    "from sklearn.decomposition import PCA # Principal Component Analysis"
   ]
  },
  {
   "cell_type": "markdown",
   "metadata": {
    "collapsed": false,
    "pycharm": {
     "name": "#%% md\n"
    }
   },
   "source": [
    "Metoda undersampling byla zvolena s cílem zabránit nevyváženosti dat, tj. náhodně se zvolí stejný počet kandidátů bez mandátu jako s mandátem."
   ]
  },
  {
   "cell_type": "code",
   "execution_count": null,
   "metadata": {
    "collapsed": false,
    "pycharm": {
     "name": "#%%\n"
    },
    "vscode": {
     "languageId": "python"
    }
   },
   "outputs": [],
   "source": [
    "from sklearn.utils import resample\n",
    "\n",
    "sn_maj = snem_ml[snem_ml[\"mandat\"] == 0] # rozdělení datasetu na minor/major\n",
    "sn_min = snem_ml[snem_ml[\"mandat\"] == 1]\n",
    "\n",
    "sn_maj_und = resample(sn_maj,\n",
    "                     replace=True,\n",
    "                     n_samples=1000, # vyrovnání se s minoritní třídou\n",
    "                     random_state=42)\n",
    "\n",
    "# sjednocení obou setů - tím se vyváží\n",
    "snem_und = pd.concat([sn_maj_und, sn_min])\n",
    "print(snem_und[\"mandat\"].value_counts())"
   ]
  },
  {
   "cell_type": "code",
   "execution_count": null,
   "metadata": {
    "collapsed": false,
    "pycharm": {
     "name": "#%%\n"
    },
    "vscode": {
     "languageId": "python"
    }
   },
   "outputs": [],
   "source": [
    "plt.figure(figsize=(10, 6))\n",
    "sns.countplot(\n",
    "    data=snem_und, x=\"mandat\"\n",
    ");"
   ]
  },
  {
   "cell_type": "markdown",
   "metadata": {
    "collapsed": false,
    "pycharm": {
     "name": "#%% md\n"
    }
   },
   "source": [
    "Nyní je cílová proměnná vyvážená.\n",
    "\n",
    "Dalším krokem je rozdělení na testovací a trénovací datasety."
   ]
  },
  {
   "cell_type": "code",
   "execution_count": null,
   "metadata": {
    "collapsed": false,
    "pycharm": {
     "name": "#%%\n"
    },
    "vscode": {
     "languageId": "python"
    }
   },
   "outputs": [],
   "source": [
    "from sklearn.model_selection import train_test_split\n",
    "# dělení sloupců na prediktory a cílovou proměnnou\n",
    "predictors = snem_ml.columns.to_list()\n",
    "predictors.remove(\"mandat\")\n",
    "target = [\"mandat\"]\n",
    "\n",
    "X = snem_und[predictors]\n",
    "y = snem_und[target]\n",
    "\n",
    "# dělení dat na trénovací a testovací sety\n",
    "X_train, X_test, y_train, y_test = train_test_split(X, y, test_size=0.25, random_state=42)\n",
    "print(f\"Rozměr trénovacího datasetu: {len(X_train)}\")\n",
    "print(f\"Rozměr testovacího datasetu: {len(X_test)}\")"
   ]
  },
  {
   "cell_type": "markdown",
   "metadata": {
    "collapsed": false,
    "pycharm": {
     "name": "#%% md\n"
    }
   },
   "source": [
    "Pro snadnou práci s více modely najednou jsou použity pipeliny. Porovnání Support Vector Classifier bez preprocessingu a Random Forest Classifier s PCA - PCA nastaveno s 95% objasněním variability komponentů."
   ]
  },
  {
   "cell_type": "code",
   "execution_count": null,
   "metadata": {
    "collapsed": false,
    "pycharm": {
     "name": "#%%\n"
    },
    "vscode": {
     "languageId": "python"
    }
   },
   "outputs": [],
   "source": [
    "from sklearn.pipeline import Pipeline\n",
    "# vytvoření pipeliny jen s SVC modelem\n",
    "svc_pipeline = Pipeline([(\"svc\", SVC(class_weight=\"balanced\", random_state=42))]) # Support Vector Machine Classifier\n",
    "\n",
    "# pipeline se škalováním (potřebné pro PCA), PCA a samotným Random Forest modelem\n",
    "randf_pipeline = Pipeline([(\"scaler\", StandardScaler()),\n",
    "                         (\"pca\", PCA(n_components=0.95)),\n",
    "                         (\"randf\", RandomForestClassifier(class_weight=\"balanced\", random_state=42))]) # Random Forest Classifier with PCA decomposition\n",
    "\n",
    "# mřížky hyperparametrů\n",
    "svc_grid = {\"svc__kernel\": [\"linear\", \"rbf\"],\n",
    "        \"svc__C\": [0.1, 1, 10, 100]}\n",
    "\n",
    "randf_grid = {\"randf__n_estimators\": [200, 400, 600],\n",
    "              \"randf__max_depth\": [10, 50, 100],\n",
    "              \"randf__min_samples_split\": [2, 5, 10]}"
   ]
  },
  {
   "cell_type": "markdown",
   "metadata": {
    "collapsed": false,
    "pycharm": {
     "name": "#%% md\n"
    }
   },
   "source": [
    "* **GridSearch** hledá následující hyperparametry:\n",
    "    * **SVC**: kernel a C. Prvním parametrem je jádro daného modelu - v našem případě jsou to lineární a rbf. Druhým parametrem je síla regularizace: 0.1, 1, 10 a 100.\n",
    "    * **Random Forest**: n_estimators, max_depth a min_sample_split. Prvním je počet stromů ve forestu. Druhým - maximální hloubka jednotlivých stromů. Třetí parametr reguluje minimální počet vzorků v jednom stromu.\n",
    "\n",
    "Nejlepší hyperparametry jsou vybrány dle metriky ROC AUC (Plocha pod ROC křivkou). V tomto případě obyčejná přesnost může být nepostačující z důvodu nevyváženosti originálního datasetu. Je nutné zajistit, aby True Positive Rate byl větší proto, aby klasifikátor správně přiřazoval pozitivní hodnoty."
   ]
  },
  {
   "cell_type": "code",
   "execution_count": null,
   "metadata": {
    "collapsed": false,
    "pycharm": {
     "name": "#%%\n"
    },
    "vscode": {
     "languageId": "python"
    }
   },
   "outputs": [],
   "source": [
    "from sklearn.model_selection import GridSearchCV\n",
    "\n",
    "results = {}\n",
    "pipelines = [svc_pipeline, randf_pipeline]\n",
    "grids = [svc_grid, randf_grid]\n",
    "names = [\"SVC\", \"Random Forest\"]\n",
    "\n",
    "# aplikování gridsearch na jednotlivé modely a mřížky\n",
    "for name, pipe, grid in zip(names, pipelines, grids):\n",
    "    print(f\"{name} se zpracovává\\n\")\n",
    "    temp_search = GridSearchCV(pipe, grid,\n",
    "                               cv=3, n_jobs=3, # počet Cross Validations je jen 3 pro lepší výkonnost\n",
    "                               scoring=\"roc_auc\")\n",
    "    temp_search.fit(X_train, y_train.values.ravel())\n",
    "    results[name] = {}\n",
    "    results[name][\"model\"] = temp_search.best_estimator_\n",
    "    results[name][\"params\"] = temp_search.best_params_ # uložení nejlepších parametrů\n",
    "\n",
    "print(\"Proces se skončil úspěšně\\n\")\n",
    "for name in names:\n",
    "    print(f\"\"\"Nejlepší parametry {name} modelu jsou {results[name][\"params\"]}\\n\"\"\")"
   ]
  },
  {
   "cell_type": "code",
   "execution_count": null,
   "metadata": {
    "collapsed": false,
    "pycharm": {
     "name": "#%%\n"
    },
    "vscode": {
     "languageId": "python"
    }
   },
   "outputs": [],
   "source": [
    "from sklearn.metrics import classification_report\n",
    "class_names = [\"Mandat 0\", \"Mandat 1\"]\n",
    "for name in names:\n",
    "    print(f\"Výsledky {name} modelu na testovacím datasetu:\")\n",
    "    print(classification_report(y_test.values.ravel(),\n",
    "                                results[name][\"model\"].predict(X_test),\n",
    "                                target_names=class_names))\n",
    "    print(\"-\" * 60)"
   ]
  },
  {
   "cell_type": "markdown",
   "metadata": {
    "collapsed": false,
    "pycharm": {
     "name": "#%% md\n"
    }
   },
   "source": [
    "Přesnost obou algoritmů je skoro stejná: 0.78 u SVC a 0.76 u Random Forest modelu. Nyní zobrazme matice záměn každého modelu:"
   ]
  },
  {
   "cell_type": "code",
   "execution_count": null,
   "metadata": {
    "collapsed": false,
    "pycharm": {
     "name": "#%%\n"
    },
    "vscode": {
     "languageId": "python"
    }
   },
   "outputs": [],
   "source": [
    "from sklearn.metrics import confusion_matrix, ConfusionMatrixDisplay\n",
    "_, ax = plt.subplots(figsize=(7, 7))\n",
    "svc_pred = results[\"SVC\"][\"model\"].predict(X_test) # uložení predikcí modelu\n",
    "svc_cm = confusion_matrix(y_test, svc_pred) # vytvoření matici záměn\n",
    "svc_confm = ConfusionMatrixDisplay(confusion_matrix=svc_cm,\n",
    "                                   display_labels=class_names) # vizualizace této matice\n",
    "svc_confm.plot(ax=ax, cmap=plt.cm.Blues);"
   ]
  },
  {
   "cell_type": "code",
   "execution_count": null,
   "metadata": {
    "collapsed": false,
    "pycharm": {
     "name": "#%%\n"
    },
    "vscode": {
     "languageId": "python"
    }
   },
   "outputs": [],
   "source": [
    "_, ax = plt.subplots(figsize=(7, 7))\n",
    "randf_pred = results[\"Random Forest\"][\"model\"].predict(X_test)\n",
    "randf_cm = confusion_matrix(y_test, randf_pred)\n",
    "randf_confm = ConfusionMatrixDisplay(confusion_matrix=randf_cm,\n",
    "                                   display_labels=class_names)\n",
    "randf_confm.plot(ax=ax, cmap=plt.cm.Blues);"
   ]
  },
  {
   "cell_type": "markdown",
   "metadata": {
    "collapsed": false,
    "pycharm": {
     "name": "#%% md\n"
    }
   },
   "source": [
    "Jak lze vidět, matice jsou si velice podobné. Nicméně True Positives Rate je větší u SVC modelu, než u Random Forest, což je pro naši klasifikaci lepší (chceme menší počet False Negatives). Přesto je rozdíl víceméně zanedbatelný."
   ]
  },
  {
   "cell_type": "code",
   "execution_count": null,
   "metadata": {
    "collapsed": false,
    "pycharm": {
     "name": "#%%\n"
    },
    "vscode": {
     "languageId": "python"
    }
   },
   "outputs": [],
   "source": [
    "from sklearn.metrics import roc_curve, auc, RocCurveDisplay\n",
    "_, (ax1, ax2) = plt.subplots(ncols=2, figsize=(20, 6))\n",
    "\n",
    "svc_fpr, svc_tpr, _ = roc_curve(y_test, svc_pred) # kalkulace False Positive Rate a True Positive Rate pro nakreslení ROC křivky\n",
    "svc_auc = auc(svc_fpr, svc_tpr) # kalkulace plochy pod křivkou ROC\n",
    "svc_roc = RocCurveDisplay(fpr=svc_fpr, tpr=svc_tpr, roc_auc=svc_auc) # vizualizace samotné křivky\n",
    "svc_roc.plot(ax=ax1, name=\"SVC\")\n",
    "\n",
    "randf_fpr, randf_tpr, _ = roc_curve(y_test, randf_pred)\n",
    "randf_auc = auc(randf_fpr, randf_tpr)\n",
    "randf_roc = RocCurveDisplay(fpr=randf_fpr, tpr=randf_tpr, roc_auc=randf_auc)\n",
    "randf_roc.plot(ax=ax2, name=\"Random Forest\")\n",
    "plt.show();"
   ]
  },
  {
   "cell_type": "markdown",
   "metadata": {
    "collapsed": false,
    "pycharm": {
     "name": "#%% md\n"
    }
   },
   "source": [
    "Plochy pod křivkou u obou modelů jsou si opět podobné. SVC dosáhl 0.78, Random Forest - 0.76.\n",
    "Finálně můžeme tedy usoudit, že na daném datasetu dosahuje SVC lepších výsledků oproti Random Forest klasifikátoru, i když byli pro Random Forest uplatněny preprocessingové kroky."
   ]
  },
  {
   "cell_type": "markdown",
   "metadata": {
    "collapsed": false,
    "pycharm": {
     "name": "#%% md\n"
    }
   },
   "source": [
    "## Závěr\n",
    "* Při zpracování této práce byly zjištěny následující výsledky:\n",
    "    * věkové rozložení kandidátů je symetrické, žádná věková skupina nepřevládá,\n",
    "    * poměr muži:ženy je 2-2,5 ku 1 ve většině věkových skupin,\n",
    "    * pravicová ideologie převládá u kandidátů, ale nakonec největší počet zvolených je ze středu,\n",
    "    * nejčastěji do Poslanecké sněmovny kandidují zaměstnanci ze soukromého sektoru, podnikatelé a stávající politici.\n",
    "    * kandidáti bez vysokoškolského vzdělání mají větší tendenci být pravicovými, než-li kandidáti se vysokoškolským stupněm vzdělání - ti jsou většinou ve středu politického spektra.\n",
    "\n",
    "Pro trénování klasifikačního modelu bylo použito dvou metodik: **Support Vector Machine Classifier** bez preprocessingu a **Random Forest Classifier** s PCA preprocessingem. Originální dataset je velice nevyvažený, proto bylo použito **undersamplingu**. Hyperparametry obou modelů byly zvoleny pomocí **Grid Search** algoritmu metrikou **AUC**. Ve výsledku měly oba modely skoro shodné výsledky - **SVC** model dosáhl o 0,02 větší plochy pod křivkou a **F-1** skóre -- **0.78**."
   ]
  }
 ],
 "metadata": {
  "kernelspec": {
   "display_name": "Python 3 (ipykernel)",
   "language": "python",
   "name": "python3"
  },
  "vscode": {
   "interpreter": {
    "hash": "31f2aee4e71d21fbe5cf8b01ff0e069b9275f58929596ceb00d14d90e3e16cd6"
   }
  }
 },
 "nbformat": 4,
 "nbformat_minor": 0
}
