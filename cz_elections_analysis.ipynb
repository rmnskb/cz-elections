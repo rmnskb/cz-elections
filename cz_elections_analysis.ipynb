{
 "cells": [
  {
   "cell_type": "code",
   "execution_count": null,
   "metadata": {
    "collapsed": true,
    "pycharm": {
     "name": "#%%\n"
    }
   },
   "outputs": [],
   "source": [
    "# Packages importing\n",
    "import pandas as pd\n",
    "import numpy as np\n",
    "import matplotlib.pyplot as plt\n",
    "plt.rc(\"figure\", figsize=(10,6))\n",
    "import seaborn as sns"
   ]
  },
  {
   "cell_type": "code",
   "execution_count": null,
   "metadata": {
    "collapsed": false,
    "pycharm": {
     "name": "#%%\n"
    }
   },
   "outputs": [],
   "source": [
    "def clean_mun(df_orig, obce) -> pd.DataFrame:\n",
    "    \"\"\"\n",
    "    Clean and prepare a dataframe containing data from local elections. The cleaning includes:\n",
    "        -[cele_jmeno]: Combining name columns into one\n",
    "        -[vs_vzdelani]: Creating a boolean column checking whether a candidate has university degree\n",
    "        -[POVOLANI]: canidate's profession\n",
    "        -[pohlavi]: candidate's gender (based on their surname's ending)\n",
    "        -[pohlavi_encoded]: encoded genders\n",
    "        -[kraj]: region where candidate runs their campaign\n",
    "        -[kraj_encoded]: encoded regions\n",
    "        -[OSTRANA]: political party\n",
    "        -[POCPROVSE]: percentage of votes at the election\n",
    "\n",
    "    :param df_orig: dataframe containing data from local elections\n",
    "    :param obce: a dictionary containing regions' codes\n",
    "    :return: dataframe with cleaned and encoded data\n",
    "    \"\"\"\n",
    "    df = df_orig.copy()\n",
    "    df[\"cele_jmeno\"] = df[\"JMENO\"] + \" \" + df[\"PRIJMENI\"]\n",
    "    df[\"pohlavi\"] = np.where(df.loc[:, \"cele_jmeno\"].str[-1] == \"á\", \"F\", \"M\")\n",
    "    df[\"vs_vzdelani\"] = np.where((df[\"TITULPRED\"].notnull()) | (df[\"TITULZA\"].notnull()), 1, 0)\n",
    "    df[\"kraj\"] = df[\"KODZASTUP\"].map(obce)\n",
    "\n",
    "    kraj_dict = dict(zip(df[df[\"kraj\"].notna()][\"kraj\"].unique(), list(range(1, 15))))\n",
    "    kraj_dict[\"nan\"] = 0\n",
    "    pohlavi_dict = dict(zip(df[\"pohlavi\"].unique(), list(range(2))))\n",
    "\n",
    "    df[\"kraj_encoded\"] = df[\"kraj\"].map(kraj_dict)\n",
    "    df[\"pohlavi_encoded\"] = df[\"pohlavi\"].map(pohlavi_dict)\n",
    "\n",
    "    columns = [\"cele_jmeno\", \"VEK\", \"vs_vzdelani\", \"POVOLANI\", \"pohlavi\",\"pohlavi_encoded\", \"kraj\", \"kraj_encoded\", \"OSTRANA\", \"POCPROCVSE\"]\n",
    "\n",
    "    return df[columns]"
   ]
  },
  {
   "cell_type": "code",
   "execution_count": null,
   "metadata": {
    "collapsed": false,
    "pycharm": {
     "name": "#%%\n"
    }
   },
   "outputs": [],
   "source": [
    "zaso_list = []\n",
    "zaso_years = [2006, 2010, 2014, 2018, 2022]\n",
    "\n",
    "for year in zaso_years:\n",
    "    temp_df = pd.read_csv(f\"https://raw.githubusercontent.com/rmnskb/cz-elections/main/municipal-elections/zaso_{year}.csv\", sep=\";\", encoding=\"utf-8\")\n",
    "    zaso_list.append(temp_df)\n",
    "\n",
    "zaso_list[0].head()"
   ]
  },
  {
   "cell_type": "code",
   "execution_count": null,
   "metadata": {
    "collapsed": false,
    "pycharm": {
     "name": "#%%\n"
    }
   },
   "outputs": [],
   "source": [
    "obce = pd.read_csv(\"https://raw.githubusercontent.com/rmnskb/cz-elections/main/municipal-elections/obce.csv\",\n",
    "                   sep=\";\", encoding=\"utf-8\")\n",
    "obce_dict = dict(zip(obce[\"CHODNOTA1\"], obce[\"TEXT2\"]))\n",
    "obce.head()"
   ]
  },
  {
   "cell_type": "code",
   "execution_count": null,
   "metadata": {
    "collapsed": false,
    "pycharm": {
     "name": "#%%\n"
    }
   },
   "outputs": [],
   "source": [
    "zaso_clean_list = []\n",
    "\n",
    "for i in range(5):\n",
    "    temp_df = clean_mun(zaso_list[i], obce_dict)\n",
    "    zaso_clean_list.append(temp_df)\n",
    "\n",
    "zaso_clean_list[0].head()"
   ]
  },
  {
   "cell_type": "code",
   "execution_count": null,
   "metadata": {
    "collapsed": false,
    "pycharm": {
     "name": "#%%\n"
    }
   },
   "outputs": [],
   "source": [
    "for index, year in enumerate(zaso_years):\n",
    "    zaso_clean_list[index][\"year\"] = year\n",
    "\n",
    "zaso_clean_all_years = pd.concat(zaso_clean_list, ignore_index=True)\n",
    "zaso_clean_all_years.tail(10)"
   ]
  },
  {
   "cell_type": "code",
   "execution_count": null,
   "metadata": {
    "collapsed": false,
    "pycharm": {
     "name": "#%%\n"
    }
   },
   "outputs": [],
   "source": [
    "g = sns.displot(\n",
    "    data=zaso_clean_all_years, x=\"VEK\", hue=\"pohlavi\", kind=\"kde\", fill=True, legend=True, col=\"year\"\n",
    ")\n",
    "g.set_titles(\"Rozložení věků kanidátů do Zastupitelstev obcí\\n podle pohlaví v roce {col_name}\")\n",
    "g.set(xlabel=\"Věk\", ylabel=\"Hustota\")\n",
    "#g.add_legend(labels=[\"Ženy\", \"Muži\"], title=\"Pohlaví\", loc=\"center right\")\n",
    "\n",
    "\n",
    "years_avgs = {}\n",
    "for i, year in enumerate(zaso_years):\n",
    "    years_avgs[i] = [zaso_clean_all_years.query(f\"year == {year}\")[\"VEK\"].mean(),\n",
    "                     zaso_clean_all_years.query(f\"year == {year}\")[\"VEK\"].median(),\n",
    "                     zaso_clean_all_years.query(f\"year == {year}\")[\"VEK\"].mode().iat[0]]\n",
    "\n",
    "axes = g.axes.flatten()\n",
    "for i, ax in enumerate(axes):\n",
    "    ax.axvline(years_avgs[i][0], ls=\"--\", lw=1.0, label=f\"\"\"Průměr: {years_avgs[i][0]:.2f}\"\"\")\n",
    "    ax.axvline(years_avgs[i][1], color=\"darkred\", lw=1.0, label=f\"\"\"Medián: {years_avgs[i][1]:.2f}\"\"\")\n",
    "    ax.axvline(years_avgs[i][2], ls=\"-.\", color = \"orange\", lw=1.0, label=f\"\"\"Modus: {years_avgs[i][2]:.2f}\"\"\")\n",
    "    ax.legend(loc=0)"
   ]
  },
  {
   "cell_type": "code",
   "execution_count": null,
   "metadata": {
    "collapsed": false,
    "pycharm": {
     "name": "#%%\n"
    }
   },
   "outputs": [],
   "source": [
    "#zaso_clean_all_years[\"POVOLANI\"].value_counts()[:100].index.tolist()"
   ]
  }
 ],
 "metadata": {
  "kernelspec": {
   "display_name": "Python 3 (ipykernel)",
   "language": "python",
   "name": "python3"
  },
  "language_info": {
   "codemirror_mode": {
    "name": "ipython",
    "version": 3
   },
   "file_extension": ".py",
   "mimetype": "text/x-python",
   "name": "python",
   "nbconvert_exporter": "python",
   "pygments_lexer": "ipython3",
   "version": "3.9.7"
  },
  "vscode": {
   "interpreter": {
    "hash": "916dbcbb3f70747c44a77c7bcd40155683ae19c65e1c03b4aa3499c5328201f1"
   }
  }
 },
 "nbformat": 4,
 "nbformat_minor": 0
}
