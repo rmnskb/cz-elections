{
 "cells": [
  {
   "cell_type": "code",
   "execution_count": null,
   "metadata": {
    "collapsed": false,
    "pycharm": {
     "name": "#%%\n"
    }
   },
   "outputs": [],
   "source": [
    "# Installations\n",
    "# !pip install matplotlib\n",
    "# !pip install seaborn\n",
    "# !pip install scikit-learn\n",
    "# TODO: joins - concatenate all unchanged info throughout the years to one dataframe and leave all the others to the different dfs, merge those,\n",
    "# see if the candidate changed their party throughout the years, merge it back based on names\n",
    "# TODO: add years during df importing\n",
    "# Feature engineering!\n",
    "# wide df for clustering, long for classification (drop the duplicates?)"
   ]
  },
  {
   "cell_type": "markdown",
   "metadata": {
    "collapsed": false,
    "pycharm": {
     "name": "#%% md\n"
    }
   },
   "source": [
    "## Import knihoven a inicializace potřebných funkcí"
   ]
  },
  {
   "cell_type": "code",
   "execution_count": null,
   "metadata": {
    "collapsed": true,
    "pycharm": {
     "name": "#%%\n"
    }
   },
   "outputs": [],
   "source": [
    "# Packages importing\n",
    "import pandas as pd\n",
    "import numpy as np\n",
    "import matplotlib.pyplot as plt\n",
    "import seaborn as sns\n",
    "import warnings\n",
    "warnings.filterwarnings(\"ignore\")\n",
    "warnings.catch_warnings(record=True)\n",
    "warnings.simplefilter(\"ignore\")\n",
    "plt.rc(\"figure\", figsize=(10,6))"
   ]
  },
  {
   "cell_type": "code",
   "execution_count": null,
   "metadata": {
    "collapsed": false,
    "pycharm": {
     "name": "#%%\n"
    }
   },
   "outputs": [],
   "source": [
    "import json\n",
    "import urllib.request\n",
    "\n",
    "url = \"https://raw.githubusercontent.com/rmnskb/cz-elections/main/dict_occupations.json\"\n",
    "response = urllib.request.urlopen(url)\n",
    "encoding = response.info().get_content_charset(\"utf-8\")\n",
    "occup_dict = json.loads(response.read().decode(encoding))\n",
    "\n",
    "def obor(val: str) -> str:\n",
    "    \"\"\"\n",
    "    Checks to what field does candidate's profession belongs to (such as finance, law, medicine etc.) with the help of keywords from global occup_dict dictionary\n",
    "    :param val: string value containing candidate's profession description\n",
    "    :return: string value with the particular field, returns \"Jiné\" if no matches were found\n",
    "    \"\"\"\n",
    "    global occup_dict\n",
    "    for key in occup_dict.keys():\n",
    "        for i in occup_dict[key][\"var\"]:\n",
    "            if i in val:\n",
    "                return occup_dict[key][\"short_name\"]\n",
    "    return \"Jiné\"\n",
    "\n",
    "occup_dict.keys()"
   ]
  },
  {
   "cell_type": "code",
   "execution_count": null,
   "metadata": {
    "collapsed": false,
    "pycharm": {
     "name": "#%%\n"
    }
   },
   "outputs": [],
   "source": [
    "def mandat(val: str) -> int:\n",
    "    \"\"\"\n",
    "    Map value of mandates. 0 stands for no mandate, 1 stands for mandate. The function exists because there different formattings: in some years it is A or N, in other years it's 0 or 1\n",
    "    :param val: string value\n",
    "    :return: integer value 0 or 1\n",
    "    \"\"\"\n",
    "    if val == \"A\" or val == \"1\":\n",
    "        return 1\n",
    "    elif val == \"N\" or val == \"0\":\n",
    "        return 0"
   ]
  },
  {
   "cell_type": "code",
   "execution_count": null,
   "metadata": {
    "collapsed": false,
    "pycharm": {
     "name": "#%%\n"
    }
   },
   "outputs": [],
   "source": [
    "def clean_data(data: pd.DataFrame, strany: dict) -> pd.DataFrame:\n",
    "    \"\"\"\n",
    "    Clean and prepare a dataframe containing data from different types of elections for further visualisation and modelling purposes.\n",
    "    The output is:\n",
    "        -[cele_jmeno]: combining name columns into one\n",
    "        -[vek]: candidate's age\n",
    "        -[vs_vzdelani]: Creating a boolean column checking whether a candidate has university degree\n",
    "        -[obor]: field of candidate's profession\n",
    "        -[pohlavi]: candidate's gender (based on their surname's ending)\n",
    "        -[kraj]: region where candidate runs their campaign\n",
    "        -[NSTRANA]: political party that nominated the candidate\n",
    "        -[ideologie]: canidate's ideology (left-wing, center, right-wing)\n",
    "        -[procento]: relative measure of votes for the candidate\n",
    "        -[mandat]: whether candidate got their mandate\n",
    "        -[year]: year of elections\n",
    "    :param data: pandas dataframe including elections data\n",
    "    :param strany: dictionary data type with political parties' data\n",
    "    :return: cleaned pandas dataframe\n",
    "    \"\"\"\n",
    "    df = data.copy()\n",
    "\n",
    "    df[\"cele_jmeno\"] = df[\"JMENO\"] + \" \" + df[\"PRIJMENI\"]\n",
    "    df[\"pohlavi\"] = np.where(df.loc[:, \"cele_jmeno\"].str[-1] == \"á\", \"F\", \"M\")\n",
    "    df[\"vs_vzdelani\"] = np.where((df[\"TITULPRED\"].notnull()) | (df[\"TITULZA\"].notnull()), 1, 0)\n",
    "    df[\"vek\"] = df[\"VEK\"]\n",
    "    # Místo PSTRANA jsem vzal NSTRANA, jelikož u té první je hodně None\n",
    "    # TODO: drop the rows with NA (only the year 2006 has 5% NA values, others are relatively good with it)\n",
    "    kraj_list = [\"Hlavní město Praha\", \"Středočeský kraj\", \"Jihočeský kraj\", \"Plzeňský kraj\", \"Karlovarský kraj\",\n",
    "                \"Ústecký kraj\", \"Liberecký kraj\", \"Královéhradecký kraj\", \"Pardubický kraj\", \"Kraj Vysočina\",\n",
    "                \"Jihomoravský kraj\", \"Olomoucký kraj\", \"Zlínský kraj\", \"Moravskoslezský kraj\"]\n",
    "    kraj_dict = dict(zip(list(range(1, 15)), kraj_list))\n",
    "    df[\"ideologie\"] = df[\"NSTRANA\"].map(strany)\n",
    "    df[\"kraj\"] = df[\"VOLKRAJ\"].map(kraj_dict)\n",
    "    df[\"obor\"] = df[\"POVOLANI\"].apply(lambda row: obor(str(row)))\n",
    "    df[\"mandat\"] = df[\"MANDAT\"].apply(lambda row: mandat(str(row)))\n",
    "    df[\"procento\"] = df[\"POCPROC\"]\n",
    "    columns = [\"cele_jmeno\", \"vek\", \"vs_vzdelani\", \"obor\", \"pohlavi\", \"kraj\", \"NSTRANA\", \"ideologie\", \"procento\", \"mandat\", \"year\"]\n",
    "\n",
    "    return df[columns]"
   ]
  },
  {
   "cell_type": "markdown",
   "metadata": {
    "collapsed": false,
    "pycharm": {
     "name": "#%% md\n"
    }
   },
   "source": [
    "## Načtení dat"
   ]
  },
  {
   "cell_type": "code",
   "execution_count": null,
   "metadata": {
    "collapsed": false,
    "pycharm": {
     "name": "#%%\n"
    }
   },
   "outputs": [],
   "source": [
    "snem_list = []\n",
    "snem_years = [2006, 2010, 2013, 2017, 2021]\n",
    "for year in snem_years:\n",
    "    temp_df = pd.read_csv(f\"https://raw.githubusercontent.com/rmnskb/cz-elections/main/legislative-elections/snem_{year}.csv\",\n",
    "                          sep=\";\", encoding=\"utf-8\")\n",
    "    temp_df[\"year\"] = year\n",
    "    snem_list.append(temp_df)\n",
    "\n",
    "snem_list[0].head(20)"
   ]
  },
  {
   "cell_type": "code",
   "execution_count": null,
   "metadata": {
    "collapsed": false,
    "pycharm": {
     "name": "#%%\n"
    }
   },
   "outputs": [],
   "source": [
    "strany = pd.read_csv(\"https://raw.githubusercontent.com/rmnskb/cz-elections/main/legislative-elections/strany.csv\",\n",
    "                    sep=\";\", encoding=\"utf-8\")\n",
    "strany_dict = dict(zip(strany[\"VSTRANA\"], strany[\"Ideologie\"]))\n",
    "strany.head()"
   ]
  },
  {
   "cell_type": "code",
   "execution_count": null,
   "metadata": {
    "collapsed": false,
    "pycharm": {
     "name": "#%%\n"
    }
   },
   "outputs": [],
   "source": [
    "snem_clean_list = []\n",
    "\n",
    "for i in range(5):\n",
    "    temp_df = clean_data(snem_list[i], strany_dict)\n",
    "    snem_clean_list.append(temp_df)\n",
    "\n",
    "snem_clean_list[0].head(20)"
   ]
  },
  {
   "cell_type": "code",
   "execution_count": null,
   "metadata": {
    "collapsed": false,
    "pycharm": {
     "name": "#%%\n"
    }
   },
   "outputs": [],
   "source": [
    "for index, year in enumerate(snem_years):\n",
    "    snem_clean_list[index][\"year\"] = year\n",
    "\n",
    "snem_long = pd.concat(snem_clean_list, ignore_index=True)\n",
    "snem_long.tail(10)"
   ]
  },
  {
   "cell_type": "markdown",
   "metadata": {
    "collapsed": false,
    "pycharm": {
     "name": "#%% md\n"
    }
   },
   "source": [
    "## Ošetření chybějících hodnot"
   ]
  },
  {
   "cell_type": "code",
   "execution_count": null,
   "metadata": {
    "collapsed": false,
    "pycharm": {
     "name": "#%%\n"
    }
   },
   "outputs": [],
   "source": [
    "print(\"Počet chybějících hodnot v každém sloupci:\\n\")\n",
    "print(snem_long.isnull().sum())\n",
    "print(\"-\" * 40)\n",
    "print(\"Nejčastější ideologie kandidátů:\\n\")\n",
    "print(snem_long[\"ideologie\"].value_counts())"
   ]
  },
  {
   "cell_type": "code",
   "execution_count": null,
   "metadata": {
    "collapsed": false,
    "pycharm": {
     "name": "#%%\n"
    }
   },
   "outputs": [],
   "source": [
    "# Missing values in \"vek\" will be deleted, since these are non-existent candidates\n",
    "# All missing values in \"ideologie\" will be assigned to Pravice, since it's the most frequent value\n",
    "# All missing columns in \"procento\" will be set to 0\n",
    "\n",
    "snem_long = snem_long.dropna(subset=[\"vek\"])\n",
    "snem_long.ideologie = snem_long.ideologie.fillna(\"Pravice\")\n",
    "snem_long.procento = snem_long.procento.fillna(0)\n",
    "\n",
    "print(\"Stav po ošetření chybějících hodnot:\")\n",
    "print(\"Počet chybějících hodnot v každém sloupci:\\n\")\n",
    "print(snem_long.isnull().sum())\n",
    "print(\"-\" * 40)\n",
    "print(\"Nejčastější ideologie kandidátů:\\n\")\n",
    "print(snem_long[\"ideologie\"].value_counts())"
   ]
  },
  {
   "cell_type": "markdown",
   "metadata": {
    "collapsed": false,
    "pycharm": {
     "name": "#%% md\n"
    }
   },
   "source": [
    "## Exploratorní analýza"
   ]
  },
  {
   "cell_type": "code",
   "execution_count": null,
   "metadata": {
    "collapsed": false,
    "pycharm": {
     "name": "#%%\n"
    }
   },
   "outputs": [],
   "source": [
    "snem_long.info()"
   ]
  },
  {
   "cell_type": "code",
   "execution_count": null,
   "metadata": {
    "collapsed": false,
    "pycharm": {
     "name": "#%%\n"
    }
   },
   "outputs": [],
   "source": [
    "g = sns.displot(\n",
    "        data=snem_long, x=\"vek\", hue=\"pohlavi\", kind=\"kde\", fill=True, legend=True, col=\"year\", col_wrap=3\n",
    "    )\n",
    "g.set_titles(\"Rozložení věků kanidátů do Poslanecké sněmovny\\n podle pohlaví v roce {col_name}\")\n",
    "g.set(xlabel=\"Věk\", ylabel=\"Hustota\")\n",
    "sns.move_legend(g, \"upper left\", bbox_to_anchor=(.70, .47), title=\"Pohlaví\", labels=[\"Ženy\", \"Muži\"]);\n",
    "\n",
    "years_avgs = {}\n",
    "for i, year in enumerate(snem_years):\n",
    "    years_avgs[i] = [snem_long.query(f\"year == {year}\")[\"vek\"].mean(),\n",
    "                     snem_long.query(f\"year == {year}\")[\"vek\"].median(),\n",
    "                     snem_long.query(f\"year == {year}\")[\"vek\"].mode().iat[0]]\n",
    "\n",
    "axes = g.axes.flatten()\n",
    "for i, ax in enumerate(axes):\n",
    "    ax.axvline(years_avgs[i][0], ls=\"--\", lw=1.0, label=f\"\"\"Průměr: {years_avgs[i][0]:.2f}\"\"\")\n",
    "    ax.axvline(years_avgs[i][1], color=\"darkred\", lw=1.0, label=f\"\"\"Medián: {years_avgs[i][1]:.2f}\"\"\")\n",
    "    ax.axvline(years_avgs[i][2], ls=\"-.\", color=\"orange\", lw=1.0, label=f\"\"\"Modus: {years_avgs[i][2]:.2f}\"\"\")\n",
    "    ax.legend(loc=0)"
   ]
  },
  {
   "cell_type": "code",
   "execution_count": null,
   "metadata": {
    "collapsed": false,
    "pycharm": {
     "name": "#%%\n"
    }
   },
   "outputs": [],
   "source": [
    "# First plot\n",
    "hue_order = [\"Levice\", \"Střed\", \"Pravice\"]\n",
    "hue_palette = [\"Red\", \"Green\", \"Blue\"]\n",
    "\n",
    "sns.countplot(snem_clean_list[4], y=\"kraj\", hue=\"ideologie\",\n",
    "              hue_order=hue_order, palette=hue_palette)\n",
    "# plt.xticks(rotation=90)\n",
    "plt.title(\"Ideologie kandidátů do sněmovny podle krajů v roce 2021\")\n",
    "plt.xlabel(\"Počet\")\n",
    "plt.ylabel(\"Kraj\")\n",
    "plt.legend(title=\"Ideologie\")\n",
    "plt.show();\n",
    "\n",
    "# Second plot\n",
    "sns.countplot(snem_clean_list[4][snem_clean_list[4][\"mandat\"] == 1], y=\"kraj\", hue=\"ideologie\",\n",
    "              hue_order=hue_order, palette=hue_palette)\n",
    "# plt.xticks(rotation=90)\n",
    "plt.title(\"Ideologie zvolených kandidátů do sněmovny podle krajů v roce 2021\")\n",
    "plt.xlabel(\"Počet\")\n",
    "plt.ylabel(\"Kraj\")\n",
    "plt.legend(title=\"Ideologie\")\n",
    "plt.show();"
   ]
  },
  {
   "cell_type": "code",
   "execution_count": null,
   "metadata": {
    "collapsed": false,
    "pycharm": {
     "name": "#%%\n"
    }
   },
   "outputs": [],
   "source": [
    "g = sns.countplot(\n",
    "    data=snem_long, y=\"obor\", hue=\"vs_vzdelani\",\n",
    "    order=snem_long.obor.value_counts().index\n",
    ")\n",
    "plt.title(\"Nejčastější povolání podle vysokoškolského vzdělání v rocích 2006 - 2021\")\n",
    "plt.xlabel(\"Počet\")\n",
    "plt.ylabel(\"Povolání\")\n",
    "plt.legend(title=\"Vysokoškolské vzdělání\",\n",
    "           labels=[\"Ne\", \"Ano\"]);"
   ]
  },
  {
   "cell_type": "code",
   "execution_count": null,
   "metadata": {
    "collapsed": false,
    "pycharm": {
     "name": "#%%\n"
    }
   },
   "outputs": [],
   "source": [
    "for i in range(5):\n",
    "    snem_list[i][\"obor\"] = snem_list[i][\"POVOLANI\"].apply(lambda row: obor(str(row)))\n",
    "\n",
    "snem = pd.concat(snem_list, ignore_index=True)"
   ]
  },
  {
   "cell_type": "code",
   "execution_count": null,
   "metadata": {
    "collapsed": false,
    "pycharm": {
     "name": "#%%\n"
    }
   },
   "outputs": [],
   "source": [
    "# obsolete - occupations added\n",
    "# print(snem[snem[\"obor\"] == \"Jiné\"][\"POVOLANI\"].value_counts().index[:100].to_list())"
   ]
  },
  {
   "cell_type": "markdown",
   "metadata": {
    "collapsed": false,
    "pycharm": {
     "name": "#%% md\n"
    }
   },
   "source": [
    "## Feature engineering"
   ]
  },
  {
   "cell_type": "code",
   "execution_count": null,
   "metadata": {
    "collapsed": false,
    "pycharm": {
     "name": "#%%\n"
    }
   },
   "outputs": [],
   "source": [
    "# Dummifying categorical variables\n",
    "snem_ml = snem_long.drop([\"cele_jmeno\", \"NSTRANA\", \"procento\", \"year\"], axis=1)\n",
    "snem_ml = pd.get_dummies(data=snem_ml, columns=[\"vs_vzdelani\", \"obor\", \"pohlavi\", \"kraj\", \"ideologie\"])\n",
    "snem_ml.head()"
   ]
  },
  {
   "cell_type": "code",
   "execution_count": null,
   "metadata": {
    "collapsed": false,
    "pycharm": {
     "name": "#%%\n"
    }
   },
   "outputs": [],
   "source": [
    "sns.countplot(\n",
    "    data=snem_ml, x=\"mandat\"\n",
    ");\n",
    "# the data is heavily unbalanced"
   ]
  }
 ],
 "metadata": {
  "kernelspec": {
   "display_name": "Python 3 (ipykernel)",
   "language": "python",
   "name": "python3"
  },
  "language_info": {
   "codemirror_mode": {
    "name": "ipython",
    "version": 3
   },
   "file_extension": ".py",
   "mimetype": "text/x-python",
   "name": "python",
   "nbconvert_exporter": "python",
   "pygments_lexer": "ipython3",
   "version": "3.9.7"
  }
 },
 "nbformat": 4,
 "nbformat_minor": 0
}
